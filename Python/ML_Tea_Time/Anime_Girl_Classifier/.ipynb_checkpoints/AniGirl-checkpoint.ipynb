{
 "cells": [
  {
   "cell_type": "code",
   "execution_count": 13,
   "metadata": {},
   "outputs": [],
   "source": [
    "#import library\n",
    "from sklearn.neighbors import KNeighborsClassifier\n",
    "from sklearn.naive_bayes import GaussianNB\n",
    "from sklearn.linear_model import LogisticRegression\n",
    "from sklearn.svm import SVC\n",
    "from sklearn.tree import DecisionTreeClassifier\n",
    "from sklearn.ensemble import RandomForestClassifier\n",
    "from sklearn.neural_network import MLPClassifier\n",
    "from sklearn.model_selection import train_test_split\n",
    "from sklearn.metrics import classification_report\n",
    "from sklearn.preprocessing import LabelEncoder\n",
    "import numpy as np\n",
    "import os\n",
    "from imutils import paths\n",
    "from PIL import Image\n",
    "from sklearn.metrics import accuracy_score"
   ]
  },
  {
   "cell_type": "code",
   "execution_count": 97,
   "metadata": {},
   "outputs": [],
   "source": [
    "#Extract feature image based of RGB Statistic\n",
    "def extract_color_stats(image):\n",
    "    (R, G, B) = image.split() #split image input into respective RGB\n",
    "    \n",
    "    #create feature vector with 6 values, mean and standard deviation for R, G, B\n",
    "    features = [ np.median(R), np.median(G), np.median(B), np.mean(R), np.mean(G), np.mean(B), np.std(R), np.std(G), np.std(B)]\n",
    "    \n",
    "    #return set of features\n",
    "    return features"
   ]
  },
  {
   "cell_type": "code",
   "execution_count": 98,
   "metadata": {},
   "outputs": [],
   "source": [
    "#define dictionary of model\n",
    "models = {\n",
    "    \"knn\":KNeighborsClassifier(n_neighbors=1),\n",
    "    \"naive_bayes\" : GaussianNB(),\n",
    "    \"logit\":LogisticRegression(solver=\"lbfgs\", multi_class=\"auto\"),\n",
    "    \"svm\":SVC(kernel=\"rbf\", gamma=\"auto\"),\n",
    "    \"decision_tree\":DecisionTreeClassifier(),\n",
    "    \"random_forest\":RandomForestClassifier(n_estimators=100),\n",
    "    \"mlp\":MLPClassifier()\n",
    "}"
   ]
  },
  {
   "cell_type": "code",
   "execution_count": 99,
   "metadata": {},
   "outputs": [],
   "source": [
    "#grab images\n",
    "imagePaths = paths.list_images(\"anime_girl\")\n",
    "data=[]\n",
    "labels =[]\n",
    "\n",
    "#loop over input images untuk mendapatkan data image\n",
    "for imagePath in imagePaths :\n",
    "    image = Image.open(imagePath)\n",
    "    features = extract_color_stats(image)\n",
    "    data.append(features)\n",
    "    \n",
    "    #Membuat label berdasarkan nama path\n",
    "    label = imagePath.split(os.path.sep)[-2]\n",
    "    labels.append(label)"
   ]
  },
  {
   "cell_type": "code",
   "execution_count": 100,
   "metadata": {},
   "outputs": [],
   "source": [
    "#encode label dari string menjadi integer\n",
    "le = LabelEncoder()\n",
    "labels= le.fit_transform(labels)\n",
    "\n",
    "#X = fitur, Y = label, 40 % test, 60% train\n",
    "(trainX, testX, trainY, testY) = train_test_split(data, labels, random_state=3, test_size=0.4)"
   ]
  },
  {
   "cell_type": "code",
   "execution_count": 102,
   "metadata": {},
   "outputs": [
    {
     "name": "stdout",
     "output_type": "stream",
     "text": [
      "[INFO] using 'logit' model\n",
      "[INFO] evaluating...\n",
      "              precision    recall  f1-score   support\n",
      "\n",
      " Mioda Ibuki       0.65      0.61      0.63        28\n",
      "      Ririko       0.50      0.72      0.59        18\n",
      "   kizuna ai       0.92      0.74      0.82        31\n",
      "\n",
      "   micro avg       0.69      0.69      0.69        77\n",
      "   macro avg       0.69      0.69      0.68        77\n",
      "weighted avg       0.73      0.69      0.70        77\n",
      "\n",
      "accuracy :  0.6883116883116883\n"
     ]
    },
    {
     "name": "stderr",
     "output_type": "stream",
     "text": [
      "/home/riyadis008/anaconda3/lib/python3.7/site-packages/sklearn/linear_model/logistic.py:758: ConvergenceWarning: lbfgs failed to converge. Increase the number of iterations.\n",
      "  \"of iterations.\", ConvergenceWarning)\n"
     ]
    }
   ],
   "source": [
    "namaModel = \"logit\"\n",
    "#pilih dan train model \n",
    "print(\"[INFO] using '{}' model\".format(namaModel))\n",
    "model = models[namaModel]\n",
    "model.fit(trainX, trainY)\n",
    "\n",
    "#make predictions\n",
    "print(\"[INFO] evaluating...\")\n",
    "predictions = model.predict(testX)\n",
    "print(classification_report(testY, predictions, target_names = le.classes_))\n",
    "\n",
    "print(\"accuracy : \", accuracy_score(testY, predictions))"
   ]
  },
  {
   "cell_type": "code",
   "execution_count": null,
   "metadata": {},
   "outputs": [],
   "source": [
    "#argumen prediksi 1 image\n",
    "gambarPrediksi = Image.open(\"highway_bost149.jpg\")\n",
    "fiturGambar = [extract_color_stats(gambarPrediksi)]\n",
    "hasiPrediksi = model.predict(fiturGambar)\n",
    "\n",
    "print(\"Gambar tersebut adalah :\", le.classes_[hasilPrediksi])"
   ]
  }
 ],
 "metadata": {
  "kernelspec": {
   "display_name": "Python 3",
   "language": "python",
   "name": "python3"
  },
  "language_info": {
   "codemirror_mode": {
    "name": "ipython",
    "version": 3
   },
   "file_extension": ".py",
   "mimetype": "text/x-python",
   "name": "python",
   "nbconvert_exporter": "python",
   "pygments_lexer": "ipython3",
   "version": "3.7.3"
  }
 },
 "nbformat": 4,
 "nbformat_minor": 2
}
